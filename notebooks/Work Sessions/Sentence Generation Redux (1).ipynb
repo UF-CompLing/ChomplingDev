{
 "cells": [
  {
   "cell_type": "code",
   "execution_count": null,
   "metadata": {
    "collapsed": true
   },
   "outputs": [],
   "source": [
    "# Let's first start off by looking at some the methods used in last \n",
    "#  year's projects: the madlib-generator and the twitterbot\n",
    "\n",
    "import random, re, urllib2, unicodedata\n",
    "from collections import Counter\n",
    "from nltk.tokenize import word_tokenize\n",
    "from nltk.tag import pos_tag\n",
    "\n",
    "link = \"https://ia801405.us.archive.org/18/items/alicesadventures19033gut/19033-8.txt\"\n",
    "\n",
    "response = urllib2.urlopen(link)\n",
    "html = response.read()\n",
    "#raw_text = html.encode('utf8', 'replace')    \n",
    "   "
   ]
  },
  {
   "cell_type": "code",
   "execution_count": null,
   "metadata": {
    "collapsed": false
   },
   "outputs": [],
   "source": [
    "# By inspection we can find that the text begins at index 1251\n",
    "print html.find(\"Alice was beginning\")\n",
    "\n",
    "# Adjust starting index\n",
    "html = html[1251:]\n",
    "\n",
    "# Show\n",
    "print html[0:500]\n",
    "\n",
    "# By inspection we can find that the text ends at index\n",
    "print html.find(\"been.\")\n",
    "\n",
    "# Adjust ending index\n",
    "html = html[:54228 + len(\"been.\")]"
   ]
  },
  {
   "cell_type": "code",
   "execution_count": null,
   "metadata": {
    "collapsed": false
   },
   "outputs": [],
   "source": [
    "# Now we can format the text and tokenize it\n",
    "tokenized_text = word_tokenize(html)\n",
    "print tokenized_text[0:100]"
   ]
  },
  {
   "cell_type": "code",
   "execution_count": null,
   "metadata": {
    "collapsed": true
   },
   "outputs": [],
   "source": [
    "# Now let's define a simple n-gram model\n",
    "def create_ngram_list(text, n):\n",
    "    # Takes tokenized text and returns a npgram model\n",
    "    \n",
    "    # First tokenize the ext\n",
    "    tokens = word_tokenize(text)\n",
    "    \n",
    "    # Now returns n-gram list\n",
    "    return zip(*[tokens[i:] for i in range(n)])"
   ]
  },
  {
   "cell_type": "code",
   "execution_count": null,
   "metadata": {
    "collapsed": false
   },
   "outputs": [],
   "source": [
    "# Let's test out our n-gram generator\n",
    "bigrams = create_ngram_list(html, 2)\n",
    "trigrams = create_ngram_list(html, 3)\n",
    "\n",
    "# Printed snippets\n",
    "print bigrams[0:20]\n",
    "print trigrams[0:20]"
   ]
  },
  {
   "cell_type": "code",
   "execution_count": null,
   "metadata": {
    "collapsed": false
   },
   "outputs": [],
   "source": [
    "# Example method for counting ngram frequency\n",
    "print len(bigrams)\n",
    "\n",
    "for i in range(0,10):\n",
    "    bigram_freq = bigrams.count(bigrams[i])\n",
    "    print str(bigrams[i]).ljust(30) + str(bigram_freq).ljust(30) + '%f' % (bigram_freq / float(len(bigrams)))\n",
    "    \n",
    "# Testing testing\n",
    "from itertools import izip\n",
    "\n",
    "bigram_dict = dict(izip(iter(bigrams), iter(bigrams)))\n",
    "i = 0\n",
    "for bigram in bigram_dict:\n",
    "    print bigram\n",
    "    if i < 5:\n",
    "        i += 1\n",
    "    else:\n",
    "        break"
   ]
  },
  {
   "cell_type": "code",
   "execution_count": null,
   "metadata": {
    "collapsed": true
   },
   "outputs": [],
   "source": [
    "# Now we can try and define a frequency-based markov model for these ngrams\n",
    "def create_markov_model(text, n):\n",
    "    # Takes in text and returns frequency-based markov model for n-gram\n",
    "    \n",
    "    # Create n-gram list\n",
    "    ngrams = create_ngram_list(text, n)\n",
    "    \n",
    "    # Get total number of ngrams\n",
    "    total_ngrams = len(ngrams)\n",
    "    \n",
    "    #"
   ]
  }
 ],
 "metadata": {
  "kernelspec": {
   "display_name": "Python 2",
   "language": "python",
   "name": "python2"
  },
  "language_info": {
   "codemirror_mode": {
    "name": "ipython",
    "version": 2
   },
   "file_extension": ".py",
   "mimetype": "text/x-python",
   "name": "python",
   "nbconvert_exporter": "python",
   "pygments_lexer": "ipython2",
   "version": "2.7.6"
  }
 },
 "nbformat": 4,
 "nbformat_minor": 1
}
