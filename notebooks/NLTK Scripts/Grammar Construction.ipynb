{
 "cells": [
  {
   "cell_type": "code",
   "execution_count": 1,
   "metadata": {
    "collapsed": true
   },
   "outputs": [],
   "source": [
    "# Import required NLTK libraries (example from www.nltk.org/howto/grammar.html)\n",
    "from nltk import CFG, PCFG\n",
    "import random, re"
   ]
  },
  {
   "cell_type": "code",
   "execution_count": 2,
   "metadata": {
    "collapsed": false
   },
   "outputs": [
    {
     "data": {
      "text/plain": [
       "<Grammar with 14 productions>"
      ]
     },
     "execution_count": 2,
     "metadata": {},
     "output_type": "execute_result"
    }
   ],
   "source": [
    "# Create a new grammar\n",
    "grammar = CFG.fromstring(\"\"\"\n",
    "S -> NP VP\n",
    "PP -> P NP\n",
    "NP -> Det N | NP PP\n",
    "VP -> V NP | VP PP\n",
    "Det -> 'a' | 'the'\n",
    "N -> 'dog' | 'cat'\n",
    "V -> 'chased' | 'sat'\n",
    "P -> 'on' | 'in'\n",
    "\"\"\")\n",
    "grammar"
   ]
  },
  {
   "cell_type": "code",
   "execution_count": 3,
   "metadata": {
    "collapsed": false
   },
   "outputs": [
    {
     "data": {
      "text/plain": [
       "[S -> NP VP,\n",
       " PP -> P NP,\n",
       " NP -> Det N,\n",
       " NP -> NP PP,\n",
       " VP -> V NP,\n",
       " VP -> VP PP,\n",
       " Det -> 'a',\n",
       " Det -> 'the',\n",
       " N -> 'dog',\n",
       " N -> 'cat',\n",
       " V -> 'chased',\n",
       " V -> 'sat',\n",
       " P -> 'on',\n",
       " P -> 'in']"
      ]
     },
     "execution_count": 3,
     "metadata": {},
     "output_type": "execute_result"
    }
   ],
   "source": [
    "# We can now view all of the possibilities of this grammar, the \"productions\"\n",
    "grammar.productions()"
   ]
  },
  {
   "cell_type": "code",
   "execution_count": 4,
   "metadata": {
    "collapsed": false
   },
   "outputs": [
    {
     "data": {
      "text/plain": [
       "<Grammar with 17 productions>"
      ]
     },
     "execution_count": 4,
     "metadata": {},
     "output_type": "execute_result"
    }
   ],
   "source": [
    "# We can also define our grammar probabilisticly\n",
    "prob_grammar = PCFG.fromstring(\"\"\"\n",
    "S -> NP VP [1.0]\n",
    "NP -> Det N [0.5] | NP PP [0.25] | 'John' [0.1] | 'I' [0.15]\n",
    "Det -> 'the' [0.8] | 'my' [0.2]\n",
    "N -> 'man' [0.5] | 'telescope' [0.5]\n",
    "VP -> VP PP [0.1] | V NP [0.7] | V [0.2]\n",
    "V -> 'ate' [0.35] | 'saw' [0.65]\n",
    "PP -> P NP [1.0]\n",
    "P -> 'with' [0.61] | 'under' [0.39]\n",
    "\"\"\")\n",
    "prob_grammar"
   ]
  },
  {
   "cell_type": "code",
   "execution_count": 5,
   "metadata": {
    "collapsed": false
   },
   "outputs": [
    {
     "data": {
      "text/plain": [
       "[S -> NP VP [1.0],\n",
       " NP -> Det N [0.5],\n",
       " NP -> NP PP [0.25],\n",
       " NP -> 'John' [0.1],\n",
       " NP -> 'I' [0.15],\n",
       " Det -> 'the' [0.8],\n",
       " Det -> 'my' [0.2],\n",
       " N -> 'man' [0.5],\n",
       " N -> 'telescope' [0.5],\n",
       " VP -> VP PP [0.1],\n",
       " VP -> V NP [0.7],\n",
       " VP -> V [0.2],\n",
       " V -> 'ate' [0.35],\n",
       " V -> 'saw' [0.65],\n",
       " PP -> P NP [1.0],\n",
       " P -> 'with' [0.61],\n",
       " P -> 'under' [0.39]]"
      ]
     },
     "execution_count": 5,
     "metadata": {},
     "output_type": "execute_result"
    }
   ],
   "source": [
    "# And again, we can view the probabilistic constructions\n",
    "prob_grammar.productions()"
   ]
  },
  {
   "cell_type": "code",
   "execution_count": 6,
   "metadata": {
    "collapsed": false
   },
   "outputs": [
    {
     "name": "stdout",
     "output_type": "stream",
     "text": [
      "Our test probability is 0.2\n",
      "Our test POS is NP\n",
      "\n",
      "Potential Matches:\n",
      "Our next word is (u'I',)\n"
     ]
    }
   ],
   "source": [
    "# This type of model is useful for creating hidden markov models\n",
    "# For example, to anticipate what the next word is, given a noun (N) we could do the following.\n",
    "prob = 0.2\n",
    "curr_prob = 0\n",
    "POS = \"NP\"\n",
    "\n",
    "print(\"Our test probability is \" + str(prob))\n",
    "print(\"Our test POS is \" + POS)\n",
    "\n",
    "# If we want to use the production object we can use the following keys:\n",
    "#    _lhs, _rhs, _ProbabilisticMixIn__prob\n",
    "\n",
    "print(\"\\nPotential Matches:\")\n",
    "for production in prob_grammar.productions():\n",
    "    if (str(production._lhs) == POS and bool(re.search(\"\\'\", str(production._rhs)))):\n",
    "        curr_prob = curr_prob + production._ProbabilisticMixIn__prob\n",
    "        if (curr_prob >= prob):\n",
    "            print(\"Our next word is \" + str(production._rhs))\n",
    "            break\n",
    "   "
   ]
  },
  {
   "cell_type": "code",
   "execution_count": null,
   "metadata": {
    "collapsed": true
   },
   "outputs": [],
   "source": []
  }
 ],
 "metadata": {
  "kernelspec": {
   "display_name": "Python 2",
   "language": "python",
   "name": "python2"
  },
  "language_info": {
   "codemirror_mode": {
    "name": "ipython",
    "version": 2
   },
   "file_extension": ".py",
   "mimetype": "text/x-python",
   "name": "python",
   "nbconvert_exporter": "python",
   "pygments_lexer": "ipython2",
   "version": "2.7.6"
  }
 },
 "nbformat": 4,
 "nbformat_minor": 1
}
