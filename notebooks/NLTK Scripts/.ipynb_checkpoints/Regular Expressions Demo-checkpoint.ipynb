{
 "cells": [
  {
   "cell_type": "code",
   "execution_count": null,
   "metadata": {
    "collapsed": true
   },
   "outputs": [],
   "source": [
    "# The following are some uses for regular expressions in Python\n",
    "\n",
    "# Import the regex library\n",
    "import re\n",
    "\n",
    "# Create a test string\n",
    "test_string = \"This is a test string with some numbers, '123456', and some letters, 'abcdef'.\""
   ]
  },
  {
   "cell_type": "code",
   "execution_count": null,
   "metadata": {
    "collapsed": false
   },
   "outputs": [],
   "source": [
    "# Now we have some use-cases\n",
    "\n",
    "# 1. Search\n",
    "print(\"\\nLet's try to find an existing substring in our test string.\\n\")\n",
    "\n",
    "search_result = re.search(\"123456\", test_string)\n",
    "if search_result:\n",
    "  print(search_result.group())\n",
    "else:\n",
    "  print(\"No match found\")\n",
    "  \n",
    "print(\"\\nNow let's try to find a substring that doesn't exist in our test string.\\n\")"
   ]
  },
  {
   "cell_type": "code",
   "execution_count": null,
   "metadata": {
    "collapsed": false
   },
   "outputs": [],
   "source": [
    "search_result = re.search(\"654321\", test_string)\n",
    "if search_result:\n",
    "  print(search_result.group())\n",
    "else:\n",
    "  print(\"No match found\")"
   ]
  },
  {
   "cell_type": "code",
   "execution_count": null,
   "metadata": {
    "collapsed": false
   },
   "outputs": [],
   "source": [
    "# 2. Split\n",
    "print(\"\\nLet's try to split the string by commas.\\n\")\n",
    "for substring in re.split(\",\", test_string):\n",
    "  print(\"Substring: \", substring)"
   ]
  },
  {
   "cell_type": "code",
   "execution_count": null,
   "metadata": {
    "collapsed": false
   },
   "outputs": [],
   "source": [
    "  \n",
    "# 3. Substitute\n",
    "print(\"\\nLet's try to replace a substring in our test string.\\n\")\n",
    "\n",
    "print(re.sub(r'123456', '654321', test_string))"
   ]
  },
  {
   "cell_type": "code",
   "execution_count": null,
   "metadata": {
    "collapsed": true
   },
   "outputs": [],
   "source": []
  }
 ],
 "metadata": {
  "kernelspec": {
   "display_name": "Python 2",
   "language": "python",
   "name": "python2"
  },
  "language_info": {
   "codemirror_mode": {
    "name": "ipython",
    "version": 2
   },
   "file_extension": ".py",
   "mimetype": "text/x-python",
   "name": "python",
   "nbconvert_exporter": "python",
   "pygments_lexer": "ipython2",
   "version": "2.7.6"
  }
 },
 "nbformat": 4,
 "nbformat_minor": 1
}
